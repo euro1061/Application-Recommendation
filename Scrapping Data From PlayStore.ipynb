{
 "cells": [
  {
   "cell_type": "code",
   "execution_count": 1,
   "id": "2cd5f8f0",
   "metadata": {},
   "outputs": [],
   "source": [
    "import bs4\n",
    "import requests\n",
    "import re"
   ]
  },
  {
   "cell_type": "code",
   "execution_count": 2,
   "id": "d5ab2b48",
   "metadata": {},
   "outputs": [],
   "source": [
    "data = requests.get(\"https://play.google.com/store/apps/collection/cluster?clp=ogo4CAESDkFSVF9BTkRfREVTSUdOGhwKFnJlY3NfdG9waWNfMzZWaUJZWWVlZnMQOxgDKgIIB1ICCAI%3D:S:ANO1ljI7tvQ&gsr=CjuiCjgIARIOQVJUX0FORF9ERVNJR04aHAoWcmVjc190b3BpY18zNlZpQllZZWVmcxA7GAMqAggHUgIIAg%3D%3D:S:ANO1ljJLx3g\")"
   ]
  },
  {
   "cell_type": "code",
   "execution_count": 3,
   "id": "711aa5c7",
   "metadata": {},
   "outputs": [],
   "source": [
    "soup = bs4.BeautifulSoup(data.text)\n",
    "baseUrl = \"https://play.google.com\""
   ]
  },
  {
   "cell_type": "code",
   "execution_count": 4,
   "id": "e51eed77",
   "metadata": {},
   "outputs": [],
   "source": [
    "def demo_append(data):\n",
    "    with open(\"test3333.csv\", \"a\", encoding=\"utf8\") as f:\n",
    "        f.write(data)\n",
    "        \n",
    "# demo_append(\"id, title, developBy, genre, price, rating, description, logoApp, Url\\n\")\n",
    "count = 1"
   ]
  },
  {
   "cell_type": "code",
   "execution_count": 5,
   "id": "e1bb2dc4",
   "metadata": {},
   "outputs": [
    {
     "name": "stdout",
     "output_type": "stream",
     "text": [
      "1 : Adult Coloring Book Added.\n",
      "2 : PaperColor Added.\n",
      "3 : Artivive Added.\n",
      "4 : ibis Paint X Added.\n",
      "5 : Kids Paint Added.\n",
      "6 : Sketch a Day: Daily challenges & tutorials Added.\n",
      "7 : Mega Voxels Play: Voxel Editor Added.\n",
      "8 : Infinite Painter Added.\n",
      "9 : Tayasui Sketches Added.\n",
      "10 : Sketchbook Added.\n",
      "11 : Artrooms - Superimpose Art on Walls Insitu Added.\n",
      "12 : Shaped - Logo Design Maker Added.\n",
      "13 : Artecture Draw Sketch Paint Added.\n",
      "14 : Cricut Joy Added.\n",
      "15 : MediBang Paint - Make Art ! Added.\n",
      "16 : Sketchers United Added.\n",
      "17 : Nomad Sculpt Added.\n",
      "18 : Dream by WOMBO Added.\n",
      "19 : Infinite Design Added.\n",
      "20 : ArtFlow: Paint Draw Sketchbook Added.\n",
      "21 : Fraksl Added.\n",
      "22 : Vector Ink: SVG Illustrator Added.\n",
      "23 : Picsart Animator: GIF & Video Added.\n",
      "24 : Artsy — Discover Buy and Resell Fine Art Added.\n",
      "25 : PENUP - Share your drawings Added.\n",
      "26 : Moblo - 3D furniture drawing Added.\n",
      "27 : Clip Studio Paint Added.\n",
      "28 : Concepts: Sketch Note Draw Added.\n",
      "29 : SketchAR Create Art and get NFT instantly Added.\n",
      "30 : NFT Creator - NinjaFT Added.\n",
      "31 : Pango Paper Color : colouring Added.\n",
      "32 : ibis Paint Added.\n"
     ]
    }
   ],
   "source": [
    "links = soup.findAll('a',{'class':'poRVub'})\n",
    "\n",
    "for link in links:\n",
    "    fullUrl = baseUrl+link.get('href')\n",
    "    data_single_item = requests.get(fullUrl)\n",
    "    data_soup_single_item = bs4.BeautifulSoup(data_single_item.text)\n",
    "    \n",
    "    # Get Data\n",
    "    title = data_soup_single_item.find('h1',{'class': 'AHFaub'}).text.replace(',', \"\")\n",
    "    genre = data_soup_single_item.find('a',{'itemprop': 'genre'}).text.replace(',', \"\")\n",
    "    developBy = data_soup_single_item.find('a',{'class': 'hrTbp'}).text.replace(',', \"\")\n",
    "    if(data_soup_single_item.find('div',{'class': 'BHMmbe'})):\n",
    "        rating = data_soup_single_item.find('div',{'class': 'BHMmbe'}).text\n",
    "    else:\n",
    "        rating = 0\n",
    "    description = data_soup_single_item.find('div',{'jsname': 'sngebd'}).text.replace(',', \"\")\n",
    "    logoApp = data_soup_single_item.find('img',{'class': 'T75of'}).get('src')\n",
    "    price = ((data_soup_single_item.find('span',{'class': 'oocvOe'}).text) == \"Install\" and \"Free\" or \"Paid\")\n",
    "    idApp = re.findall(\"[^=]*$\", fullUrl)[0]\n",
    "    demo_append(f\"{idApp},{title},{developBy},{genre},{price},{rating},{description},{logoApp},{fullUrl}\\n\")\n",
    "    print(f\"{count} : {title} Added.\")\n",
    "    count = count + 1\n"
   ]
  },
  {
   "cell_type": "code",
   "execution_count": null,
   "id": "17b659d9",
   "metadata": {},
   "outputs": [],
   "source": []
  },
  {
   "cell_type": "code",
   "execution_count": null,
   "id": "bc6394bd",
   "metadata": {},
   "outputs": [],
   "source": []
  }
 ],
 "metadata": {
  "kernelspec": {
   "display_name": "Python 3 (ipykernel)",
   "language": "python",
   "name": "python3"
  },
  "language_info": {
   "codemirror_mode": {
    "name": "ipython",
    "version": 3
   },
   "file_extension": ".py",
   "mimetype": "text/x-python",
   "name": "python",
   "nbconvert_exporter": "python",
   "pygments_lexer": "ipython3",
   "version": "3.9.7"
  }
 },
 "nbformat": 4,
 "nbformat_minor": 5
}

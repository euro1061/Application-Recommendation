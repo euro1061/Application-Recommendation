{
 "cells": [
  {
   "cell_type": "code",
   "execution_count": 1,
   "id": "2b18be17",
   "metadata": {},
   "outputs": [],
   "source": [
    "import pandas as pd\n",
    "from sklearn.feature_extraction.text import TfidfVectorizer\n",
    "from sklearn.metrics.pairwise import linear_kernel\n",
    "import pickle"
   ]
  },
  {
   "cell_type": "code",
   "execution_count": 2,
   "id": "782797dd",
   "metadata": {
    "scrolled": true
   },
   "outputs": [
    {
     "name": "stdout",
     "output_type": "stream",
     "text": [
      "<class 'pandas.core.frame.DataFrame'>\n",
      "RangeIndex: 1030 entries, 0 to 1029\n",
      "Data columns (total 9 columns):\n",
      " #   Column       Non-Null Count  Dtype  \n",
      "---  ------       --------------  -----  \n",
      " 0   id           1030 non-null   object \n",
      " 1   title        1030 non-null   object \n",
      " 2   developBy    1030 non-null   object \n",
      " 3   genre        1030 non-null   object \n",
      " 4   price        1030 non-null   object \n",
      " 5   rating       1030 non-null   float64\n",
      " 6   description  1030 non-null   object \n",
      " 7   logoApp      1030 non-null   object \n",
      " 8   Url          1030 non-null   object \n",
      "dtypes: float64(1), object(8)\n",
      "memory usage: 72.5+ KB\n",
      "None\n"
     ]
    }
   ],
   "source": [
    "# Load Dataset\n",
    "metadata = pd.read_csv('test.csv', low_memory = False)\n",
    "metadata['description'] = metadata['description'].fillna('');\n",
    "\n",
    "print(metadata.info())"
   ]
  },
  {
   "cell_type": "code",
   "execution_count": 3,
   "id": "25641254",
   "metadata": {
    "scrolled": true
   },
   "outputs": [
    {
     "name": "stdout",
     "output_type": "stream",
     "text": [
      "  (0, 4618)\t0.06454701795742221\n",
      "  (0, 8767)\t0.03671577912483391\n",
      "  (0, 11064)\t0.03497202116452975\n",
      "  (0, 5329)\t0.053313554685802345\n",
      "  (0, 186)\t0.05737270145359951\n",
      "  (0, 7679)\t0.022954419986426337\n",
      "  (0, 1155)\t0.035639023180177476\n",
      "  (0, 5653)\t0.05035439439108734\n",
      "  (0, 4399)\t0.06359962017083642\n",
      "  (0, 17289)\t0.04674452678769062\n",
      "  (0, 10158)\t0.04569639517052804\n",
      "  (0, 11849)\t0.03481098257628915\n",
      "  (0, 1689)\t0.04491997565600369\n",
      "  (0, 5991)\t0.03769453097915857\n",
      "  (0, 16506)\t0.043843219711347255\n",
      "  (0, 14680)\t0.04765544949564158\n",
      "  (0, 6245)\t0.024522337565550185\n",
      "  (0, 7444)\t0.04401601334440151\n",
      "  (0, 17499)\t0.04742106255629037\n",
      "  (0, 13191)\t0.03843124051055994\n",
      "  (0, 5251)\t0.03282755451350397\n",
      "  (0, 3523)\t0.05737270145359951\n",
      "  (0, 13089)\t0.08095541101976175\n",
      "  (0, 15903)\t0.05737270145359951\n",
      "  (0, 2643)\t0.042544806471461895\n",
      "  :\t:\n",
      "  (1029, 8865)\t0.02015249230469032\n",
      "  (1029, 5322)\t0.012458376206850847\n",
      "  (1029, 14824)\t0.020092331161681756\n",
      "  (1029, 11801)\t0.029588394864598147\n",
      "  (1029, 19094)\t0.11069337761239047\n",
      "  (1029, 17283)\t0.028116465153972328\n",
      "  (1029, 17988)\t0.019912559450387488\n",
      "  (1029, 5183)\t0.030520412224704505\n",
      "  (1029, 13594)\t0.01910074538882438\n",
      "  (1029, 11400)\t0.021577703709872637\n",
      "  (1029, 20105)\t0.05730223616647315\n",
      "  (1029, 3843)\t0.009779737402421535\n",
      "  (1029, 8907)\t0.023724269695894057\n",
      "  (1029, 10371)\t0.015496306340504563\n",
      "  (1029, 10644)\t0.019521516521176712\n",
      "  (1029, 1760)\t0.014784173029897112\n",
      "  (1029, 14430)\t0.01216096485851917\n",
      "  (1029, 1689)\t0.02294602568262462\n",
      "  (1029, 11598)\t0.018075099135849194\n",
      "  (1029, 4885)\t0.014935334527899104\n",
      "  (1029, 6868)\t0.10615696647537737\n",
      "  (1029, 18007)\t0.022309000729034453\n",
      "  (1029, 10269)\t0.015496306340504563\n",
      "  (1029, 1286)\t0.032310093929875654\n",
      "  (1029, 7397)\t0.047002061493487145\n"
     ]
    }
   ],
   "source": [
    "# Word Vectorize\n",
    "tfidf = TfidfVectorizer(stop_words='english')\n",
    "tfidf_matrix = tfidf.fit_transform(metadata['description'])\n",
    "\n",
    "print(tfidf_matrix)"
   ]
  },
  {
   "cell_type": "code",
   "execution_count": 4,
   "id": "7d13ac6b",
   "metadata": {},
   "outputs": [
    {
     "name": "stdout",
     "output_type": "stream",
     "text": [
      "title\n",
      "Yatzy - Dice Game                               0\n",
      "Real Chess 3D                                   1\n",
      "Ludo King™                                      2\n",
      "Checkers                                        3\n",
      "Ludo Club - Fun Dice Game                       4\n",
      "                                             ... \n",
      "NFT Creator - NinjaFT                        1025\n",
      "Concepts: Sketch Note Draw                   1026\n",
      "SketchAR Create Art and get NFT instantly    1027\n",
      "Pango Paper Color : colouring                1028\n",
      "ibis Paint                                   1029\n",
      "Length: 1030, dtype: int64\n"
     ]
    }
   ],
   "source": [
    "# Create app list and pandas series\n",
    "app = pd.Series(metadata.index, index=metadata['title']).drop_duplicates()\n",
    "\n",
    "print(app)"
   ]
  },
  {
   "cell_type": "code",
   "execution_count": 5,
   "id": "255a3e02",
   "metadata": {},
   "outputs": [
    {
     "name": "stdout",
     "output_type": "stream",
     "text": [
      "[[1.         0.06369625 0.14925818 ... 0.02107304 0.0042477  0.01039856]\n",
      " [0.06369625 1.         0.07382188 ... 0.03501472 0.00460854 0.01667988]\n",
      " [0.14925818 0.07382188 1.         ... 0.0129729  0.01060844 0.01300657]\n",
      " ...\n",
      " [0.02107304 0.03501472 0.0129729  ... 1.         0.09229257 0.10972916]\n",
      " [0.0042477  0.00460854 0.01060844 ... 0.09229257 1.         0.01395419]\n",
      " [0.01039856 0.01667988 0.01300657 ... 0.10972916 0.01395419 1.        ]]\n"
     ]
    }
   ],
   "source": [
    "# Compute cosine (similarity)\n",
    "cosine_overview = linear_kernel(tfidf_matrix, tfidf_matrix)\n",
    "print(cosine_overview)"
   ]
  },
  {
   "cell_type": "code",
   "execution_count": 6,
   "id": "9d25abf4",
   "metadata": {},
   "outputs": [],
   "source": [
    "# Dump apps list and cosine to pickle\n",
    "pickle.dump((app, cosine_overview), open('app.p', 'wb'))"
   ]
  },
  {
   "cell_type": "code",
   "execution_count": 7,
   "id": "1b3c5020",
   "metadata": {},
   "outputs": [],
   "source": [
    "# Load apps list and cosine from pickle\n",
    "apps, cosine_overview = pickle.load(open('app.p', 'rb'))\n",
    "\n",
    "def get_recommendations_returnList(title, cosine_sim=cosine_overview):\n",
    "    list_recommendations = []\n",
    "    idx = app[title]\n",
    "    sim_scores = list(enumerate(cosine_sim[idx]))\n",
    "    sim_scores = sorted(sim_scores, key=lambda x:x[1], reverse=True)\n",
    "    sim_scores = sim_scores[1:11]\n",
    "    app_indics = [i[0] for i in sim_scores]\n",
    "    for single_app in apps[app_indics].index:\n",
    "        list_recommendations.append(single_app)\n",
    "    return list_recommendations"
   ]
  },
  {
   "cell_type": "code",
   "execution_count": 8,
   "id": "fc419438",
   "metadata": {},
   "outputs": [
    {
     "name": "stdout",
     "output_type": "stream",
     "text": [
      "['Critical Strike CS: Counter Terrorist Online FPS', 'Midsomer Murders: Mysteries', 'Unholy Adventure: point and click story game', 'Art Puzzle - picture art games', 'Criminal Case', 'Words of Wonders: Search', 'Wonder Word - A Fun Free Word Search Puzzle Game', 'Empires and Allies', 'Amnesia - Room Escape Games', 'Toy Blast']\n"
     ]
    }
   ],
   "source": [
    "text_recomend = get_recommendations_returnList('Nobodies: Murder Cleaner')\n",
    "\n",
    "print(text_recomend)"
   ]
  },
  {
   "cell_type": "code",
   "execution_count": null,
   "id": "b73c4e9b",
   "metadata": {},
   "outputs": [],
   "source": []
  }
 ],
 "metadata": {
  "kernelspec": {
   "display_name": "Python 3 (ipykernel)",
   "language": "python",
   "name": "python3"
  },
  "language_info": {
   "codemirror_mode": {
    "name": "ipython",
    "version": 3
   },
   "file_extension": ".py",
   "mimetype": "text/x-python",
   "name": "python",
   "nbconvert_exporter": "python",
   "pygments_lexer": "ipython3",
   "version": "3.9.7"
  }
 },
 "nbformat": 4,
 "nbformat_minor": 5
}
